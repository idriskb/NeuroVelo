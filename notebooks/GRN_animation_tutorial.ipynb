{
 "cells": [
  {
   "cell_type": "markdown",
   "id": "303dda46",
   "metadata": {},
   "source": [
    "We show here how to construct time dependant GRNs as shown in the supp movie of NeuroVelo manuscript"
   ]
  },
  {
   "cell_type": "code",
   "execution_count": 1,
   "id": "8c1a0f0f",
   "metadata": {},
   "outputs": [],
   "source": [
    "import scvelo as scv\n",
    "import glob"
   ]
  },
  {
   "cell_type": "markdown",
   "id": "a3d9164d",
   "metadata": {},
   "source": [
    "We give a trained NeuroVelo model and list of genes we want to observe"
   ]
  },
  {
   "cell_type": "code",
   "execution_count": null,
   "id": "ee25185d",
   "metadata": {},
   "outputs": [],
   "source": [
    "adata = scv.datasets.bonemarrow()\n",
    "scv.pp.filter_and_normalize(adata, min_shared_counts=20, n_top_genes=2000)\n",
    "scv.pp.moments(adata, n_pcs=30, n_neighbors=30)"
   ]
  },
  {
   "cell_type": "code",
   "execution_count": 3,
   "id": "e5845cdf",
   "metadata": {},
   "outputs": [],
   "source": [
    "xmoments_models = glob.glob('./trained_models/bonemarrow_xt/*layer_Ms*')"
   ]
  },
  {
   "cell_type": "code",
   "execution_count": 4,
   "id": "d1c88862",
   "metadata": {},
   "outputs": [],
   "source": [
    "g = ['TLE4','TCF4','EBF1','VPREB1','IGLL1','SSBP2','CD99','ZCCHC7','ARPP21','CD9','BLVRB','ICAM3',\n",
    "     'MPO','ELANE','MS4A3','PRTN3','AZU1','CTSG','LYZ','AZU1','S100A4','TOP2B','PLAC8','BTG1','SRGN',\n",
    "     'LAPTM5','UBE2J1','CFD','MPC2','HLA-C','SMIM3','CD74','CXCR4','PTPRE','CSTA','HOPX','RCSD1','HBB',\n",
    "     'AKAP12','TMEM243','CD79B','MZB1','VPREB3','MLXIP']\n"
   ]
  },
  {
   "cell_type": "code",
   "execution_count": 5,
   "id": "e0a1fbb0",
   "metadata": {},
   "outputs": [],
   "source": [
    "from neurovelo.grn import GraphMakerAnimation"
   ]
  },
  {
   "cell_type": "code",
   "execution_count": null,
   "id": "c4d2ad49",
   "metadata": {},
   "outputs": [],
   "source": [
    "gma = GraphMakerAnimation(adata=adata, model_path=xmoments_models[1], cell_label='clusters'\n",
    "                          , layer='Ms',reverse=True, show_scatter=True)\n",
    "\n",
    "# We had some issue running scatterplot with scvelo thus we give the option to not show the scatter plot"
   ]
  },
  {
   "cell_type": "code",
   "execution_count": null,
   "id": "54aff82a",
   "metadata": {},
   "outputs": [],
   "source": [
    "gma.create_animation(\n",
    "    path_to_save='../figures/scatterplot_and_network_animation_greater_than_0_3_branch1.gif',\n",
    "    g=g, # list of genes to show animated GRN for\n",
    "    n_frames=10,\n",
    "    threshold_a=0.3, # \n",
    "    interval=200,# ms between frames,\n",
    "    celltype_to_linearize = ['HSC_1', 'Ery_1', 'Ery_2'] # Choose celltype to compute GRN for, if it is none, it uses all cells\n",
    ",\n",
    ")"
   ]
  },
  {
   "cell_type": "markdown",
   "id": "57f2fb17",
   "metadata": {},
   "source": [
    "<img src=\"../figures/scatterplot_and_network_animation_greater_than_0_3_branch1.gif\" alt=\"Animated GRN\" width=\"1000\"/>\n"
   ]
  },
  {
   "cell_type": "code",
   "execution_count": null,
   "id": "ded97a25",
   "metadata": {},
   "outputs": [],
   "source": []
  }
 ],
 "metadata": {
  "kernelspec": {
   "display_name": "htenv",
   "language": "python",
   "name": "python3"
  },
  "language_info": {
   "codemirror_mode": {
    "name": "ipython",
    "version": 3
   },
   "file_extension": ".py",
   "mimetype": "text/x-python",
   "name": "python",
   "nbconvert_exporter": "python",
   "pygments_lexer": "ipython3",
   "version": "3.9.19"
  }
 },
 "nbformat": 4,
 "nbformat_minor": 5
}
